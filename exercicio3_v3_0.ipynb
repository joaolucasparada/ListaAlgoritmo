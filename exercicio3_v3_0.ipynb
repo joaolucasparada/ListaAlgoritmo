{
  "nbformat": 4,
  "nbformat_minor": 0,
  "metadata": {
    "colab": {
      "provenance": []
    },
    "kernelspec": {
      "name": "python3",
      "display_name": "Python 3"
    },
    "language_info": {
      "name": "python"
    }
  },
  "cells": [
    {
      "cell_type": "code",
      "execution_count": 7,
      "metadata": {
        "colab": {
          "base_uri": "https://localhost:8080/"
        },
        "id": "nPAGltA0IVYn",
        "outputId": "b1d13fa1-b9e7-49f1-d5ac-0f3c4ad84ec0"
      },
      "outputs": [
        {
          "output_type": "stream",
          "name": "stdout",
          "text": [
            "\n",
            "Dimensão da lista A=  50\n",
            "Lista A= [0, 1, 2, 3, 4, 5, 6, 7, 8, 9, 10, 11, 12, 13, 14, 15, 16, 17, 18, 19, 20, 21, 22, 23, 24, 25, 26, 27, 28, 29, 30, 31, 32, 33, 34, 35, 36, 37, 38, 39, 40, 41, 42, 43, 44, 45, 46, 47, 48, 49]\n",
            "Lista A ordenada =  [0, 1, 2, 3, 4, 5, 6, 7, 8, 9, 10, 11, 12, 13, 14, 15, 16, 17, 18, 19, 20, 21, 22, 23, 24, 25, 26, 27, 28, 29, 30, 31, 32, 33, 34, 35, 36, 37, 38, 39, 40, 41, 42, 43, 44, 45, 46, 47, 48, 49]\n",
            "Tempo de execução =  0.0002288818359375\n"
          ]
        }
      ],
      "source": [
        "import random\n",
        "import time\n",
        "\n",
        "\n",
        "A = []\n",
        "for i in range(0, 50):\n",
        "    A.append(i)\n",
        "print(\"\\nDimensão da lista A= \",len(A))\n",
        "print(\"Lista A=\", A)\n",
        "tempo_inicial = time.time()\n",
        "for p in range(1):\n",
        "    for j in range(1, len(A)):\n",
        "\n",
        "        temporario = A[j]\n",
        "        i = j-1\n",
        "        while i >= 0 and A[i] > temporario:\n",
        "            A[i+ 1] = A[i]\n",
        "            i-=1\n",
        "        A[i+1] = temporario\n",
        "tempo_final = time.time()\n",
        "print(\"Lista A ordenada = \", A)\n",
        "print(\"Tempo de execução = \", tempo_final - tempo_inicial)"
      ]
    },
    {
      "cell_type": "code",
      "source": [
        "B = []\n",
        "for i in range(0, 50):\n",
        "    B.append(i)\n",
        "B.sort(reverse=True)\n",
        "print(\"\\nDimensão da lista B= \",len(B))\n",
        "print(\"Lista B=\", B)\n",
        "tempo_inicial = time.time()\n",
        "for p in range(1):\n",
        "    for j in range(1, len(B)):\n",
        "        temporario = B[j]\n",
        "        i = j-1\n",
        "        while i >= 0 and B[i] > temporario:\n",
        "            B[i+ 1] = B[i]\n",
        "            i-=1\n",
        "        B[i+1] = temporario\n",
        "tempo_final = time.time()\n",
        "print(\"Lista B ordenada = \", B)\n",
        "print(\"Tempo de execução = \", tempo_final - tempo_inicial)"
      ],
      "metadata": {
        "colab": {
          "base_uri": "https://localhost:8080/"
        },
        "id": "oBikfE6aIZol",
        "outputId": "1ae5af47-ff01-46d2-b6a8-24748bb4b04c"
      },
      "execution_count": 8,
      "outputs": [
        {
          "output_type": "stream",
          "name": "stdout",
          "text": [
            "\n",
            "Dimensão da lista B=  50\n",
            "Lista B= [49, 48, 47, 46, 45, 44, 43, 42, 41, 40, 39, 38, 37, 36, 35, 34, 33, 32, 31, 30, 29, 28, 27, 26, 25, 24, 23, 22, 21, 20, 19, 18, 17, 16, 15, 14, 13, 12, 11, 10, 9, 8, 7, 6, 5, 4, 3, 2, 1, 0]\n",
            "Lista B ordenada =  [0, 1, 2, 3, 4, 5, 6, 7, 8, 9, 10, 11, 12, 13, 14, 15, 16, 17, 18, 19, 20, 21, 22, 23, 24, 25, 26, 27, 28, 29, 30, 31, 32, 33, 34, 35, 36, 37, 38, 39, 40, 41, 42, 43, 44, 45, 46, 47, 48, 49]\n",
            "Tempo de execução =  0.0009894371032714844\n"
          ]
        }
      ]
    },
    {
      "cell_type": "code",
      "source": [
        "C = []\n",
        "n = 0\n",
        "while n < 50:\n",
        "    n+=1\n",
        "    a = random.randrange(0, 50, 1)\n",
        "    C.append(a)\n",
        "print(\"\\nDimensão da lista C= \", len(C))\n",
        "print(\"Lista C= \", C)\n",
        "tempo_inicial = time.time()\n",
        "for p in range(1):\n",
        "    for j in range(1, len(C)):\n",
        "        temporario = C[j]\n",
        "        i = j-1\n",
        "        while i >= 0 and C[i] > temporario:\n",
        "            C[i+ 1] = C[i]\n",
        "            i-=1\n",
        "        C[i+1] = temporario\n",
        "tempo_final = time.time()\n",
        "print(\"Lista C ordenada = \", C)\n",
        "print(\"Tempo de execução = \", tempo_final - tempo_inicial)"
      ],
      "metadata": {
        "colab": {
          "base_uri": "https://localhost:8080/"
        },
        "id": "9NAAHEd0IfWT",
        "outputId": "8bebb056-8d46-4590-8217-0f39edfaaeb9"
      },
      "execution_count": 9,
      "outputs": [
        {
          "output_type": "stream",
          "name": "stdout",
          "text": [
            "\n",
            "Dimensão da lista C=  50\n",
            "Lista C=  [17, 24, 33, 48, 6, 24, 38, 1, 36, 47, 1, 14, 38, 19, 16, 48, 41, 37, 10, 21, 10, 10, 1, 32, 35, 21, 41, 32, 49, 0, 47, 32, 27, 48, 32, 43, 20, 47, 40, 11, 18, 42, 43, 14, 15, 25, 49, 46, 7, 41]\n",
            "Lista C ordenada =  [0, 1, 1, 1, 6, 7, 10, 10, 10, 11, 14, 14, 15, 16, 17, 18, 19, 20, 21, 21, 24, 24, 25, 27, 32, 32, 32, 32, 33, 35, 36, 37, 38, 38, 40, 41, 41, 41, 42, 43, 43, 46, 47, 47, 47, 48, 48, 48, 49, 49]\n",
            "Tempo de execução =  0.0006582736968994141\n"
          ]
        }
      ]
    },
    {
      "cell_type": "code",
      "source": [
        "D = []\n",
        "for i in range(0, 100):\n",
        "    D.append(i)\n",
        "print(\"\\nDimensão da lista D= \",len(D))\n",
        "print(\"Lista D=\", D)\n",
        "tempo_inicial = time.time()\n",
        "for p in range(1):\n",
        "    for j in range(1, len(D)):\n",
        "        temporario = D[j]\n",
        "        i = j-1\n",
        "        while i >= 0 and D[i] > temporario:\n",
        "            D[i+ 1] = D[i]\n",
        "            i-=1\n",
        "        D[i+1] = temporario\n",
        "tempo_final = time.time()\n",
        "print(\"Lista D ordenada = \", D)\n",
        "print(\"Tempo de execução = \", tempo_final - tempo_inicial)"
      ],
      "metadata": {
        "colab": {
          "base_uri": "https://localhost:8080/"
        },
        "id": "mFthhLl4IiZD",
        "outputId": "0e9b60ce-a2b2-472f-9e5d-1f7c4fbbee3e"
      },
      "execution_count": 10,
      "outputs": [
        {
          "output_type": "stream",
          "name": "stdout",
          "text": [
            "\n",
            "Dimensão da lista D=  100\n",
            "Lista D= [0, 1, 2, 3, 4, 5, 6, 7, 8, 9, 10, 11, 12, 13, 14, 15, 16, 17, 18, 19, 20, 21, 22, 23, 24, 25, 26, 27, 28, 29, 30, 31, 32, 33, 34, 35, 36, 37, 38, 39, 40, 41, 42, 43, 44, 45, 46, 47, 48, 49, 50, 51, 52, 53, 54, 55, 56, 57, 58, 59, 60, 61, 62, 63, 64, 65, 66, 67, 68, 69, 70, 71, 72, 73, 74, 75, 76, 77, 78, 79, 80, 81, 82, 83, 84, 85, 86, 87, 88, 89, 90, 91, 92, 93, 94, 95, 96, 97, 98, 99]\n",
            "Lista D ordenada =  [0, 1, 2, 3, 4, 5, 6, 7, 8, 9, 10, 11, 12, 13, 14, 15, 16, 17, 18, 19, 20, 21, 22, 23, 24, 25, 26, 27, 28, 29, 30, 31, 32, 33, 34, 35, 36, 37, 38, 39, 40, 41, 42, 43, 44, 45, 46, 47, 48, 49, 50, 51, 52, 53, 54, 55, 56, 57, 58, 59, 60, 61, 62, 63, 64, 65, 66, 67, 68, 69, 70, 71, 72, 73, 74, 75, 76, 77, 78, 79, 80, 81, 82, 83, 84, 85, 86, 87, 88, 89, 90, 91, 92, 93, 94, 95, 96, 97, 98, 99]\n",
            "Tempo de execução =  0.00033664703369140625\n"
          ]
        }
      ]
    },
    {
      "cell_type": "code",
      "source": [
        "E = []\n",
        "for i in range(0, 100):\n",
        "    E.append(i)\n",
        "E.sort(reverse=True)\n",
        "print(\"\\nDimensão da lista E= \",len(E))\n",
        "print(\"Lista E=\", E)\n",
        "tempo_inicial = time.time()\n",
        "for p in range(1):\n",
        "    for j in range(1, len(E)):\n",
        "        temporario = E[j]\n",
        "        i = j-1\n",
        "        while i >= 0 and E[i] > temporario:\n",
        "            E[i+ 1] = E[i]\n",
        "            i-=1\n",
        "        E[i+1] = temporario\n",
        "tempo_final = time.time()\n",
        "print(\"Lista E ordenada = \", E)\n",
        "print(\"Tempo de execução = \", tempo_final - tempo_inicial)"
      ],
      "metadata": {
        "colab": {
          "base_uri": "https://localhost:8080/"
        },
        "id": "BZogK_cAImsz",
        "outputId": "39a165b2-bb88-446c-b5a6-2454f25e934f"
      },
      "execution_count": 11,
      "outputs": [
        {
          "output_type": "stream",
          "name": "stdout",
          "text": [
            "\n",
            "Dimensão da lista E=  100\n",
            "Lista E= [99, 98, 97, 96, 95, 94, 93, 92, 91, 90, 89, 88, 87, 86, 85, 84, 83, 82, 81, 80, 79, 78, 77, 76, 75, 74, 73, 72, 71, 70, 69, 68, 67, 66, 65, 64, 63, 62, 61, 60, 59, 58, 57, 56, 55, 54, 53, 52, 51, 50, 49, 48, 47, 46, 45, 44, 43, 42, 41, 40, 39, 38, 37, 36, 35, 34, 33, 32, 31, 30, 29, 28, 27, 26, 25, 24, 23, 22, 21, 20, 19, 18, 17, 16, 15, 14, 13, 12, 11, 10, 9, 8, 7, 6, 5, 4, 3, 2, 1, 0]\n",
            "Lista E ordenada =  [0, 1, 2, 3, 4, 5, 6, 7, 8, 9, 10, 11, 12, 13, 14, 15, 16, 17, 18, 19, 20, 21, 22, 23, 24, 25, 26, 27, 28, 29, 30, 31, 32, 33, 34, 35, 36, 37, 38, 39, 40, 41, 42, 43, 44, 45, 46, 47, 48, 49, 50, 51, 52, 53, 54, 55, 56, 57, 58, 59, 60, 61, 62, 63, 64, 65, 66, 67, 68, 69, 70, 71, 72, 73, 74, 75, 76, 77, 78, 79, 80, 81, 82, 83, 84, 85, 86, 87, 88, 89, 90, 91, 92, 93, 94, 95, 96, 97, 98, 99]\n",
            "Tempo de execução =  0.0027923583984375\n"
          ]
        }
      ]
    },
    {
      "cell_type": "code",
      "source": [
        "F = []\n",
        "n = 0\n",
        "while n < 100:\n",
        "    n+=1\n",
        "    a = random.randrange(0, 100, 1)\n",
        "    F.append(a)\n",
        "print(\"\\nDimensão da lista F= \", len(F))\n",
        "print(\"Lista F= \", F)\n",
        "tempo_inicial = time.time()\n",
        "for p in range(1):\n",
        "    for j in range(1, len(F)):\n",
        "        temporario = F[j]\n",
        "        i = j-1\n",
        "        while i >= 0 and F[i] > temporario:\n",
        "            F[i+ 1] = F[i]\n",
        "            i-=1\n",
        "        F[i+1] = temporario\n",
        "tempo_final = time.time()\n",
        "print(\"Lista F ordenada = \", F)\n",
        "print(\"Tempo de execução = \", tempo_final - tempo_inicial)\n"
      ],
      "metadata": {
        "colab": {
          "base_uri": "https://localhost:8080/"
        },
        "id": "EENqNSNOIoyi",
        "outputId": "ab8049b2-e8d6-47b3-ba12-c0b058a0ea3d"
      },
      "execution_count": 12,
      "outputs": [
        {
          "output_type": "stream",
          "name": "stdout",
          "text": [
            "\n",
            "Dimensão da lista F=  100\n",
            "Lista F=  [62, 47, 1, 29, 77, 15, 43, 8, 84, 22, 50, 88, 14, 19, 84, 9, 97, 29, 12, 94, 37, 11, 56, 70, 47, 91, 74, 77, 67, 20, 39, 23, 10, 41, 16, 96, 81, 33, 7, 57, 15, 68, 90, 39, 17, 60, 64, 80, 34, 6, 50, 77, 4, 51, 66, 90, 57, 12, 18, 59, 20, 90, 1, 18, 16, 56, 39, 47, 99, 64, 12, 37, 97, 16, 17, 66, 73, 39, 47, 27, 2, 10, 90, 60, 43, 36, 12, 11, 1, 43, 69, 99, 93, 86, 30, 42, 14, 15, 38, 8]\n",
            "Lista F ordenada =  [1, 1, 1, 2, 4, 6, 7, 8, 8, 9, 10, 10, 11, 11, 12, 12, 12, 12, 14, 14, 15, 15, 15, 16, 16, 16, 17, 17, 18, 18, 19, 20, 20, 22, 23, 27, 29, 29, 30, 33, 34, 36, 37, 37, 38, 39, 39, 39, 39, 41, 42, 43, 43, 43, 47, 47, 47, 47, 50, 50, 51, 56, 56, 57, 57, 59, 60, 60, 62, 64, 64, 66, 66, 67, 68, 69, 70, 73, 74, 77, 77, 77, 80, 81, 84, 84, 86, 88, 90, 90, 90, 90, 91, 93, 94, 96, 97, 97, 99, 99]\n",
            "Tempo de execução =  0.002260446548461914\n"
          ]
        }
      ]
    },
    {
      "cell_type": "code",
      "source": [],
      "metadata": {
        "id": "H7JChekEIq3D"
      },
      "execution_count": 12,
      "outputs": []
    }
  ]
}