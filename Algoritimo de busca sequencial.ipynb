{
 "cells": [
  {
   "cell_type": "code",
   "execution_count": 1,
   "id": "6e01d90b",
   "metadata": {},
   "outputs": [],
   "source": [
    "import time\n",
    "import random\n",
    "import matplotlib.pyplot as plt\n",
    "import pandas as pd"
   ]
  },
  {
   "cell_type": "code",
   "execution_count": 2,
   "id": "563c435e",
   "metadata": {},
   "outputs": [],
   "source": [
    "def busca_linear_A(x, lista):\n",
    "    tempo_inicial= time.time()\n",
    "    for p in range(10**4):\n",
    "        i=0\n",
    "        n= len(lista)\n",
    "        while i < n:\n",
    "            if lista[i]!=x:\n",
    "                i+= 1\n",
    "            else:\n",
    "                break\n",
    "    tempo_final= time.time()\n",
    "    tempo_total= tempo_final - tempo_inicial\n",
    "    return f'chave: {lista[i]} Valores: {lista[i + 1]},{lista[i + 2]},{lista[i + 3]}\\t Tempo de execução: {tempo_total}'\n",
    "\n",
    "def busca_linear_B(x, lista):\n",
    "    tempo_inicial= time.time()\n",
    "    for p in range(10**4):\n",
    "        i=0\n",
    "        n= len(lista)\n",
    "        while i < n:\n",
    "            if lista[i]!=x:\n",
    "                i+= 1\n",
    "            else:\n",
    "                break\n",
    "    tempo_final= time.time()\n",
    "    tempo_total= tempo_final - tempo_inicial\n",
    "    return f'chave: {lista[i]}, Valores: {lista[i + 1]},{lista[i + 2]},{lista[i + 3]},{lista[i + 4]},{lista[i + 5]},\\nTempo de execução: {tempo_total}'\n",
    "\n",
    "def busca_linear_A_B(x, lista):\n",
    "    tempo_inicial= time.time()\n",
    "    for p in range(10**6):\n",
    "        i=0\n",
    "        n= len(lista)\n",
    "        while i < n:\n",
    "            if lista[i]!=x:\n",
    "                i+= 1\n",
    "            else:\n",
    "                lista.append(x)\n",
    "                tempo_final= time.time()\n",
    "                tempo_total= tempo_final - tempo_inicial\n",
    "                return f'chave: {lista[i]}\\n Valores: {lista[i + 1]},{lista[i + 2]},{lista[i + 3]}\\n Tempo de execução: {tempo_total}'\n",
    "    if i == n:\n",
    "        lista.append(x)\n",
    "            \n",
    "    tempo_final= time.time()\n",
    "    tempo_total= tempo_final - tempo_inicial\n",
    "    return f'lista: {lista}\\n Tempo de execução: {tempo_total}'"
   ]
  },
  {
   "cell_type": "code",
   "execution_count": 3,
   "id": "f6cce735",
   "metadata": {},
   "outputs": [],
   "source": [
    "A= [0,'kombi', 'fusca','belina',4, 'dodge','gordini','tl',6,'variant','brasilia','opala',7,'corcel','santana',\n",
    "    'quantun',11,'scort','rural','variant', 23,'sp2','willis','simca',44,'decavê','uno','veraneio']\n",
    "\n",
    "B= [21,'macaco','zebra','tartaruga','tubarão','formiga',55,'leão','elefante','girafa','coelho','pato',60,'gato','cobra','aranha',\n",
    "   'cabra','besouro',73,'borboleta','boi','tigre','leopardo','anta',101,'mula','burro','calango','largatixa','sapo',202,\n",
    "    'baleia','urso','hiena','rato','gorila']"
   ]
  },
  {
   "cell_type": "code",
   "execution_count": 4,
   "id": "2d720d25",
   "metadata": {},
   "outputs": [
    {
     "name": "stdout",
     "output_type": "stream",
     "text": [
      "chave: 0 Valores: kombi,fusca,belina\t Tempo de execução: 0.003001689910888672\n",
      "chave: 4 Valores: dodge,gordini,tl\t Tempo de execução: 0.013992071151733398\n",
      "chave: 6 Valores: variant,brasilia,opala\t Tempo de execução: 0.023985862731933594\n",
      "chave: 7 Valores: corcel,santana,quantun\t Tempo de execução: 0.026981353759765625\n",
      "chave: 11 Valores: scort,rural,variant\t Tempo de execução: 0.031980276107788086\n",
      "chave: 23 Valores: sp2,willis,simca\t Tempo de execução: 0.037973880767822266\n",
      "chave: 44 Valores: decavê,uno,veraneio\t Tempo de execução: 0.0459744930267334\n"
     ]
    }
   ],
   "source": [
    "print(busca_linear_A(0, A))\n",
    "print(busca_linear_A(4, A))\n",
    "print(busca_linear_A(6, A))\n",
    "print(busca_linear_A(7, A))\n",
    "print(busca_linear_A(11, A))\n",
    "print(busca_linear_A(23, A))\n",
    "print(busca_linear_A(44, A))"
   ]
  },
  {
   "cell_type": "code",
   "execution_count": 5,
   "id": "58b3417c",
   "metadata": {},
   "outputs": [
    {
     "name": "stdout",
     "output_type": "stream",
     "text": [
      "chave: 21, Valores: macaco,zebra,tartaruga,tubarão,formiga,\n",
      "Tempo de execução: 0.003996372222900391\n",
      "chave: 55, Valores: leão,elefante,girafa,coelho,pato,\n",
      "Tempo de execução: 0.01798725128173828\n",
      "chave: 60, Valores: gato,cobra,aranha,cabra,besouro,\n",
      "Tempo de execução: 0.0239865779876709\n",
      "chave: 73, Valores: borboleta,boi,tigre,leopardo,anta,\n",
      "Tempo de execução: 0.03498077392578125\n",
      "chave: 101, Valores: mula,burro,calango,largatixa,sapo,\n",
      "Tempo de execução: 0.04497218132019043\n",
      "chave: 202, Valores: baleia,urso,hiena,rato,gorila,\n",
      "Tempo de execução: 0.055965423583984375\n"
     ]
    }
   ],
   "source": [
    "print(busca_linear_B(21, B))\n",
    "print(busca_linear_B(55, B))\n",
    "print(busca_linear_B(60, B))\n",
    "print(busca_linear_B(73, B))\n",
    "print(busca_linear_B(101, B))\n",
    "print(busca_linear_B(202, B))\n"
   ]
  },
  {
   "cell_type": "code",
   "execution_count": 6,
   "id": "111d1075",
   "metadata": {},
   "outputs": [
    {
     "name": "stdout",
     "output_type": "stream",
     "text": [
      "lista: [0, 'kombi', 'fusca', 'belina', 4, 'dodge', 'gordini', 'tl', 6, 'variant', 'brasilia', 'opala', 7, 'corcel', 'santana', 'quantun', 11, 'scort', 'rural', 'variant', 23, 'sp2', 'willis', 'simca', 44, 'decavê', 'uno', 'veraneio', 55]\n",
      " Tempo de execução: 5.25881028175354\n"
     ]
    }
   ],
   "source": [
    "print(busca_linear_A_B(55, A))\n"
   ]
  },
  {
   "cell_type": "code",
   "execution_count": 7,
   "id": "871da242",
   "metadata": {},
   "outputs": [
    {
     "name": "stdout",
     "output_type": "stream",
     "text": [
      "lista: [0, 'kombi', 'fusca', 'belina', 4, 'dodge', 'gordini', 'tl', 6, 'variant', 'brasilia', 'opala', 7, 'corcel', 'santana', 'quantun', 11, 'scort', 'rural', 'variant', 23, 'sp2', 'willis', 'simca', 44, 'decavê', 'uno', 'veraneio', 55, 47]\n",
      " Tempo de execução: 5.423665761947632\n"
     ]
    }
   ],
   "source": [
    "print(busca_linear_A_B(47, A))"
   ]
  }
 ],
 "metadata": {
  "kernelspec": {
   "display_name": "Python 3 (ipykernel)",
   "language": "python",
   "name": "python3"
  },
  "language_info": {
   "codemirror_mode": {
    "name": "ipython",
    "version": 3
   },
   "file_extension": ".py",
   "mimetype": "text/x-python",
   "name": "python",
   "nbconvert_exporter": "python",
   "pygments_lexer": "ipython3",
   "version": "3.10.12"
  }
 },
 "nbformat": 4,
 "nbformat_minor": 5
}
