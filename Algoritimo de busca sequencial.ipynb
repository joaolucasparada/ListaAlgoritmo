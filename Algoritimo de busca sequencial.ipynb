{
 "cells": [
  {
   "cell_type": "code",
   "execution_count": 1,
   "id": "6f9b751a",
   "metadata": {},
   "outputs": [],
   "source": [
    "import time\n",
    "import random\n",
    "import matplotlib.pyplot as plt\n",
    "import pandas as pd"
   ]
  },
  {
   "cell_type": "code",
   "execution_count": 2,
   "id": "a04299c5",
   "metadata": {},
   "outputs": [],
   "source": [
    "def busca_linear_A(x, lista):\n",
    "    tempo_inicial= time.time()\n",
    "    for p in range(10**6):\n",
    "        i=0\n",
    "        n= len(lista)\n",
    "        while i < n:\n",
    "            if lista[i]!=x:\n",
    "                i+= 1\n",
    "            else:\n",
    "                break\n",
    "    tempo_final= time.time()\n",
    "    tempo_total= tempo_final - tempo_inicial\n",
    "    return f'chave: {lista[i]}, Valores: {lista[i + 1]},{lista[i + 2]},{lista[i + 3]},\\tTempo de execução: {tempo_total}'\n",
    "\n",
    "def busca_linear_B(x, lista):\n",
    "    tempo_inicial= time.time()\n",
    "    for p in range(10**6):\n",
    "        i=0\n",
    "        n= len(lista)\n",
    "        while i < n:\n",
    "            if lista[i]!=x:\n",
    "                i+= 1\n",
    "            else:\n",
    "                break\n",
    "    tempo_final= time.time()\n",
    "    tempo_total= tempo_final - tempo_inicial\n",
    "    return f'chave: {lista[i]}, Valores: {lista[i + 1]},{lista[i + 2]},{lista[i + 3]},{lista[i + 4]},{lista[i + 5]},\\tTempo de execução: {tempo_total}'"
   ]
  },
  {
   "cell_type": "code",
   "execution_count": null,
   "id": "f8ded52d",
   "metadata": {},
   "outputs": [],
   "source": []
  },
  {
   "cell_type": "code",
   "execution_count": 3,
   "id": "79aa24ea",
   "metadata": {},
   "outputs": [],
   "source": [
    "A= [0,'kombi', 'fusca','belina',4, 'dodge','gordini','tl',6,'variant','brasilia','opala',7,'corcel','santana',\n",
    "    'quantun',11,'scort','rural','variant', 23,'sp2','willis','simca',44,'decavê','uno','veraneio']\n",
    "\n",
    "B= [21,'macaco','zebra','tartaruga','tubarão','formiga',55,'leão','elefante','girafa','coelho','pato',60,'gato','cobra','aranha',\n",
    "   'cabra','besouro',73,'borboleta','boi','tigre','leopardo','anta',101,'mula','burro','calango','largatixa','sapo',202,\n",
    "    'baleia','urso','hiena','rato','gorila']"
   ]
  },
  {
   "cell_type": "code",
   "execution_count": 4,
   "id": "d5c064c0",
   "metadata": {},
   "outputs": [
    {
     "name": "stdout",
     "output_type": "stream",
     "text": [
      "chave: 0, Valores: kombi,fusca,belina,\tTempo de execução: 0.2621481418609619\n",
      "chave: 4, Valores: dodge,gordini,tl,\tTempo de execução: 1.0171289443969727\n",
      "chave: 6, Valores: variant,brasilia,opala,\tTempo de execução: 1.7462456226348877\n",
      "chave: 7, Valores: corcel,santana,quantun,\tTempo de execução: 2.4517056941986084\n",
      "chave: 11, Valores: scort,rural,variant,\tTempo de execução: 3.2662994861602783\n",
      "chave: 23, Valores: sp2,willis,simca,\tTempo de execução: 4.535479784011841\n",
      "chave: 44, Valores: decavê,uno,veraneio,\tTempo de execução: 5.404498815536499\n"
     ]
    }
   ],
   "source": [
    "print(busca_linear_A(0, A))\n",
    "print(busca_linear_A(4, A))\n",
    "print(busca_linear_A(6, A))\n",
    "print(busca_linear_A(7, A))\n",
    "print(busca_linear_A(11, A))\n",
    "print(busca_linear_A(23, A))\n",
    "print(busca_linear_A(44, A))"
   ]
  },
  {
   "cell_type": "code",
   "execution_count": 5,
   "id": "9365a209",
   "metadata": {},
   "outputs": [
    {
     "name": "stdout",
     "output_type": "stream",
     "text": [
      "chave: 21, Valores: macaco,zebra,tartaruga,tubarão,formiga,\tTempo de execução: 0.2758193016052246\n",
      "chave: 55, Valores: leão,elefante,girafa,coelho,pato,\tTempo de execução: 1.3784065246582031\n",
      "chave: 60, Valores: gato,cobra,aranha,cabra,besouro,\tTempo de execução: 2.4391183853149414\n",
      "chave: 73, Valores: borboleta,boi,tigre,leopardo,anta,\tTempo de execução: 3.98264217376709\n",
      "chave: 101, Valores: mula,burro,calango,largatixa,sapo,\tTempo de execução: 4.57272481918335\n",
      "chave: 202, Valores: baleia,urso,hiena,rato,gorila,\tTempo de execução: 5.620717287063599\n"
     ]
    }
   ],
   "source": [
    "print(busca_linear_B(21, B))\n",
    "print(busca_linear_B(55, B))\n",
    "print(busca_linear_B(60, B))\n",
    "print(busca_linear_B(73, B))\n",
    "print(busca_linear_B(101, B))\n",
    "print(busca_linear_B(202, B))\n"
   ]
  }
 ],
 "metadata": {
  "kernelspec": {
   "display_name": "Python 3 (ipykernel)",
   "language": "python",
   "name": "python3"
  },
  "language_info": {
   "codemirror_mode": {
    "name": "ipython",
    "version": 3
   },
   "file_extension": ".py",
   "mimetype": "text/x-python",
   "name": "python",
   "nbconvert_exporter": "python",
   "pygments_lexer": "ipython3",
   "version": "3.10.12"
  }
 },
 "nbformat": 4,
 "nbformat_minor": 5
}
