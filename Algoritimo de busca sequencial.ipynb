{
 "cells": [
  {
   "cell_type": "code",
   "execution_count": 1,
   "id": "ff2799e4",
   "metadata": {},
   "outputs": [],
   "source": [
    "import time\n",
    "import random\n",
    "import matplotlib.pyplot as plt\n",
    "import pandas as pd"
   ]
  },
  {
   "cell_type": "code",
   "execution_count": 2,
   "id": "f4cfe380",
   "metadata": {},
   "outputs": [],
   "source": [
    "def busca_linear(x, lista):\n",
    "    tempo_inicial= time.time()\n",
    "    for p in range(10**6):\n",
    "        i=0\n",
    "        n= len(A)\n",
    "        while i < n:\n",
    "            if lista[i]!=x:\n",
    "                i+= 1\n",
    "            else:\n",
    "                break\n",
    "    tempo_final= time.time()\n",
    "    tempo_total= tempo_final - tempo_inicial\n",
    "    return f'chave: {lista[i]}', f'Valores: {lista[i + 1]}, {lista[i + 2]}, {lista[i + 3]}',f'Tempo de execução: {tempo_total}'"
   ]
  },
  {
   "cell_type": "code",
   "execution_count": 3,
   "id": "dac618fe",
   "metadata": {},
   "outputs": [],
   "source": [
    "A= [0,'kombi', 'fusca','belina',4, 'dodge','gordini','tl',6,'variant','brasilia','opala',7,'corcel','santana',\n",
    "    'quantun',11,'scort','rural','variant', 23,'sp2','willis','simca',44,'decavê','uno','veraneio']\n",
    "\n",
    "B= [21,'macaco','zebra','tartaruga','tubarão','formiga',55,'leão','elefante','girafa','coelho','pato',60,'gato','cobra','aranha',\n",
    "   'cabra','besouro',73,'borboleta','boi','tigre','leopardo','anta',101,'mula','burro','calango','largatixa','sapo',202,\n",
    "    'baleia','urso','hiena','rato','gorila']"
   ]
  },
  {
   "cell_type": "code",
   "execution_count": 6,
   "id": "b6a3aa48",
   "metadata": {},
   "outputs": [
    {
     "name": "stdout",
     "output_type": "stream",
     "text": [
      "('chave: 0', 'Valores: kombi, fusca, belina', 'Tempo de execução: 0.3127458095550537')\n",
      "('chave: 4', 'Valores: dodge, gordini, tl', 'Tempo de execução: 1.085874319076538')\n",
      "('chave: 6', 'Valores: variant, brasilia, opala', 'Tempo de execução: 1.8092682361602783')\n",
      "('chave: 7', 'Valores: corcel, santana, quantun', 'Tempo de execução: 2.9601359367370605')\n",
      "('chave: 11', 'Valores: scort, rural, variant', 'Tempo de execução: 3.2855517864227295')\n",
      "('chave: 23', 'Valores: sp2, willis, simca', 'Tempo de execução: 4.087737083435059')\n",
      "('chave: 44', 'Valores: decavê, uno, veraneio', 'Tempo de execução: 4.840946435928345')\n"
     ]
    }
   ],
   "source": [
    "print(busca_linear(0, A))\n",
    "print(busca_linear(4, A))\n",
    "print(busca_linear(6, A))\n",
    "print(busca_linear(7, A))\n",
    "print(busca_linear(11, A))\n",
    "print(busca_linear(23, A))\n",
    "print(busca_linear(44, A))"
   ]
  },
  {
   "cell_type": "code",
   "execution_count": null,
   "id": "e09e409b",
   "metadata": {},
   "outputs": [],
   "source": [
    "\n"
   ]
  }
 ],
 "metadata": {
  "kernelspec": {
   "display_name": "Python 3 (ipykernel)",
   "language": "python",
   "name": "python3"
  },
  "language_info": {
   "codemirror_mode": {
    "name": "ipython",
    "version": 3
   },
   "file_extension": ".py",
   "mimetype": "text/x-python",
   "name": "python",
   "nbconvert_exporter": "python",
   "pygments_lexer": "ipython3",
   "version": "3.10.12"
  }
 },
 "nbformat": 4,
 "nbformat_minor": 5
}
