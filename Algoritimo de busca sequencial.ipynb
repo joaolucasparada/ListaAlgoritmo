{
 "cells": [
  {
   "cell_type": "code",
   "execution_count": 1,
   "id": "4a765f56",
   "metadata": {},
   "outputs": [],
   "source": [
    "import time\n",
    "import random\n",
    "import matplotlib.pyplot as plt\n",
    "import pandas as pd"
   ]
  },
  {
   "cell_type": "code",
   "execution_count": 2,
   "id": "22536772",
   "metadata": {},
   "outputs": [],
   "source": [
    "def busca_linear_A(x, lista):\n",
    "    tempo_inicial= time.time()\n",
    "    for p in range(10**6):\n",
    "        i=0\n",
    "        n= len(lista)\n",
    "        while i < n:\n",
    "            if lista[i]!=x:\n",
    "                i+= 1\n",
    "            else:\n",
    "                break\n",
    "    tempo_final= time.time()\n",
    "    tempo_total= tempo_final - tempo_inicial\n",
    "    return f'chave: {lista[i]}, Valores: {lista[i + 1]},{lista[i + 2]},{lista[i + 3]},\\tTempo de execução: {tempo_total}'\n",
    "\n",
    "def busca_linear_B(x, lista):\n",
    "    tempo_inicial= time.time()\n",
    "    for p in range(10**6):\n",
    "        i=0\n",
    "        n= len(lista)\n",
    "        while i < n:\n",
    "            if lista[i]!=x:\n",
    "                i+= 1\n",
    "            else:\n",
    "                break\n",
    "    tempo_final= time.time()\n",
    "    tempo_total= tempo_final - tempo_inicial\n",
    "    return f'chave: {lista[i]}, Valores: {lista[i + 1]},{lista[i + 2]},{lista[i + 3]},{lista[i + 4]},{lista[i + 5]},\\tTempo de execução: {tempo_total}'"
   ]
  },
  {
   "cell_type": "code",
   "execution_count": null,
   "id": "f9d9e2fa",
   "metadata": {},
   "outputs": [],
   "source": []
  },
  {
   "cell_type": "code",
   "execution_count": 3,
   "id": "0a62c50f",
   "metadata": {},
   "outputs": [],
   "source": [
    "A= [0,'kombi', 'fusca','belina',4, 'dodge','gordini','tl',6,'variant','brasilia','opala',7,'corcel','santana',\n",
    "    'quantun',11,'scort','rural','variant', 23,'sp2','willis','simca',44,'decavê','uno','veraneio']\n",
    "\n",
    "B= [21,'macaco','zebra','tartaruga','tubarão','formiga',55,'leão','elefante','girafa','coelho','pato',60,'gato','cobra','aranha',\n",
    "   'cabra','besouro',73,'borboleta','boi','tigre','leopardo','anta',101,'mula','burro','calango','largatixa','sapo',202,\n",
    "    'baleia','urso','hiena','rato','gorila']"
   ]
  },
  {
   "cell_type": "code",
   "execution_count": 4,
   "id": "dc777b65",
   "metadata": {},
   "outputs": [
    {
     "name": "stdout",
     "output_type": "stream",
     "text": [
      "chave: 0, Valores: kombi,fusca,belina,\tTempo de execução: 0.2834165096282959\n",
      "chave: 4, Valores: dodge,gordini,tl,\tTempo de execução: 1.0776832103729248\n",
      "chave: 6, Valores: variant,brasilia,opala,\tTempo de execução: 1.737203598022461\n",
      "chave: 7, Valores: corcel,santana,quantun,\tTempo de execução: 2.588052272796631\n",
      "chave: 11, Valores: scort,rural,variant,\tTempo de execução: 3.1621594429016113\n",
      "chave: 23, Valores: sp2,willis,simca,\tTempo de execução: 3.8894433975219727\n",
      "chave: 44, Valores: decavê,uno,veraneio,\tTempo de execução: 4.609010457992554\n"
     ]
    }
   ],
   "source": [
    "print(busca_linear_A(0, A))\n",
    "print(busca_linear_A(4, A))\n",
    "print(busca_linear_A(6, A))\n",
    "print(busca_linear_A(7, A))\n",
    "print(busca_linear_A(11, A))\n",
    "print(busca_linear_A(23, A))\n",
    "print(busca_linear_A(44, A))"
   ]
  },
  {
   "cell_type": "code",
   "execution_count": null,
   "id": "316faf4d",
   "metadata": {},
   "outputs": [
    {
     "name": "stdout",
     "output_type": "stream",
     "text": [
      "chave: 21, Valores: macaco,zebra,tartaruga,tubarão,formiga,\tTempo de execução: 0.26050734519958496\n",
      "chave: 55, Valores: leão,elefante,girafa,coelho,pato,\tTempo de execução: 1.378291368484497\n"
     ]
    }
   ],
   "source": [
    "print(busca_linear_B(21, B))\n",
    "print(busca_linear_B(55, B))\n",
    "print(busca_linear_B(60, B))\n",
    "print(busca_linear_B(73, B))\n",
    "print(busca_linear_B(101, B))\n",
    "print(busca_linear_B(202, B))\n"
   ]
  }
 ],
 "metadata": {
  "kernelspec": {
   "display_name": "Python 3 (ipykernel)",
   "language": "python",
   "name": "python3"
  },
  "language_info": {
   "codemirror_mode": {
    "name": "ipython",
    "version": 3
   },
   "file_extension": ".py",
   "mimetype": "text/x-python",
   "name": "python",
   "nbconvert_exporter": "python",
   "pygments_lexer": "ipython3",
   "version": "3.10.12"
  }
 },
 "nbformat": 4,
 "nbformat_minor": 5
}
