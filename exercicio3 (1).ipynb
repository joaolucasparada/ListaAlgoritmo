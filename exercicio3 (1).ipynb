{
  "nbformat": 4,
  "nbformat_minor": 0,
  "metadata": {
    "colab": {
      "provenance": []
    },
    "kernelspec": {
      "name": "python3",
      "display_name": "Python 3"
    },
    "language_info": {
      "name": "python"
    }
  },
  "cells": [
    {
      "cell_type": "code",
      "execution_count": 1,
      "metadata": {
        "colab": {
          "base_uri": "https://localhost:8080/"
        },
        "id": "nPAGltA0IVYn",
        "outputId": "fa331782-c870-4392-9d30-b3ec307927e6"
      },
      "outputs": [
        {
          "output_type": "stream",
          "name": "stdout",
          "text": [
            "\n",
            "Dimensão da lista A=  50\n",
            "Lista A= [0, 1, 2, 3, 4, 5, 6, 7, 8, 9, 10, 11, 12, 13, 14, 15, 16, 17, 18, 19, 20, 21, 22, 23, 24, 25, 26, 27, 28, 29, 30, 31, 32, 33, 34, 35, 36, 37, 38, 39, 40, 41, 42, 43, 44, 45, 46, 47, 48, 49]\n",
            "Matriz A ordenada =  [0, 1, 2, 3, 4, 5, 6, 7, 8, 9, 10, 11, 12, 13, 14, 15, 16, 17, 18, 19, 20, 21, 22, 23, 24, 25, 26, 27, 28, 29, 30, 31, 32, 33, 34, 35, 36, 37, 38, 39, 40, 41, 42, 43, 44, 45, 46, 47, 48, 49]\n",
            "Tempo de execução =  0.00029277801513671875\n"
          ]
        }
      ],
      "source": [
        "import random\n",
        "import time\n",
        "\n",
        "\n",
        "A = []\n",
        "for i in range(0, 50):\n",
        "    A.append(i)\n",
        "print(\"\\nDimensão da lista A= \",len(A))\n",
        "print(\"Lista A=\", A)\n",
        "tempo_inicial = time.time()\n",
        "for p in range(1):\n",
        "    for j in range(1, len(A)):\n",
        "\n",
        "        temporario = A[j]\n",
        "        i = j-1\n",
        "        while i >= 0 and A[i] > temporario:\n",
        "            A[i+ 1] = A[i]\n",
        "            i-=1\n",
        "        A[i+1] = temporario\n",
        "tempo_final = time.time()\n",
        "print(\"Matriz A ordenada = \", A)\n",
        "print(\"Tempo de execução = \", tempo_final - tempo_inicial)"
      ]
    },
    {
      "cell_type": "code",
      "source": [
        "B = []\n",
        "for i in range(0, 50):\n",
        "    B.append(i)\n",
        "B.sort(reverse=True)\n",
        "print(\"\\nDimensão da lista B= \",len(B))\n",
        "print(\"Lista B=\", B)\n",
        "tempo_inicial = time.time()\n",
        "for p in range(1):\n",
        "    for j in range(1, len(B)):\n",
        "        temporario = B[j]\n",
        "        i = j-1\n",
        "        while i >= 0 and B[i] > temporario:\n",
        "            B[i+ 1] = B[i]\n",
        "            i-=1\n",
        "        B[i+1] = temporario\n",
        "tempo_final = time.time()\n",
        "print(\"Matriz B ordenada = \", B)\n",
        "print(\"Tempo de execução = \", tempo_final - tempo_inicial)"
      ],
      "metadata": {
        "colab": {
          "base_uri": "https://localhost:8080/"
        },
        "id": "oBikfE6aIZol",
        "outputId": "9f067eed-cdf4-49e2-8bb7-89418deabd99"
      },
      "execution_count": 2,
      "outputs": [
        {
          "output_type": "stream",
          "name": "stdout",
          "text": [
            "\n",
            "Dimensão da lista B=  50\n",
            "Lista B= [49, 48, 47, 46, 45, 44, 43, 42, 41, 40, 39, 38, 37, 36, 35, 34, 33, 32, 31, 30, 29, 28, 27, 26, 25, 24, 23, 22, 21, 20, 19, 18, 17, 16, 15, 14, 13, 12, 11, 10, 9, 8, 7, 6, 5, 4, 3, 2, 1, 0]\n",
            "Matriz B ordenada =  [0, 1, 2, 3, 4, 5, 6, 7, 8, 9, 10, 11, 12, 13, 14, 15, 16, 17, 18, 19, 20, 21, 22, 23, 24, 25, 26, 27, 28, 29, 30, 31, 32, 33, 34, 35, 36, 37, 38, 39, 40, 41, 42, 43, 44, 45, 46, 47, 48, 49]\n",
            "Tempo de execução =  0.003080129623413086\n"
          ]
        }
      ]
    },
    {
      "cell_type": "code",
      "source": [
        "C = []\n",
        "n = 0\n",
        "while n < 50:\n",
        "    n+=1\n",
        "    a = random.randrange(0, 50, 1)\n",
        "    C.append(a)\n",
        "print(\"\\nDimensão da lista C= \", len(C))\n",
        "print(\"Lista C= \", C)\n",
        "tempo_inicial = time.time()\n",
        "for p in range(1):\n",
        "    for j in range(1, len(C)):\n",
        "        temporario = C[j]\n",
        "        i = j-1\n",
        "        while i >= 0 and C[i] > temporario:\n",
        "            C[i+ 1] = C[i]\n",
        "            i-=1\n",
        "        C[i+1] = temporario\n",
        "tempo_final = time.time()\n",
        "print(\"Matriz C ordenada = \", C)\n",
        "print(\"Tempo de execução = \", tempo_final - tempo_inicial)"
      ],
      "metadata": {
        "colab": {
          "base_uri": "https://localhost:8080/"
        },
        "id": "9NAAHEd0IfWT",
        "outputId": "4f13819c-1e82-4405-9a3d-d453bd8be7cd"
      },
      "execution_count": 3,
      "outputs": [
        {
          "output_type": "stream",
          "name": "stdout",
          "text": [
            "\n",
            "Dimensão da lista C=  50\n",
            "Lista C=  [25, 22, 13, 9, 32, 0, 39, 34, 46, 22, 49, 28, 28, 47, 3, 37, 41, 2, 10, 28, 20, 12, 22, 48, 0, 40, 6, 5, 36, 25, 44, 36, 40, 45, 1, 18, 22, 25, 24, 2, 44, 27, 29, 4, 35, 17, 35, 0, 24, 39]\n",
            "Matriz C ordenada =  [0, 0, 0, 1, 2, 2, 3, 4, 5, 6, 9, 10, 12, 13, 17, 18, 20, 22, 22, 22, 22, 24, 24, 25, 25, 25, 27, 28, 28, 28, 29, 32, 34, 35, 35, 36, 36, 37, 39, 39, 40, 40, 41, 44, 44, 45, 46, 47, 48, 49]\n",
            "Tempo de execução =  0.000705718994140625\n"
          ]
        }
      ]
    },
    {
      "cell_type": "code",
      "source": [
        "D = []\n",
        "for i in range(0, 100):\n",
        "    D.append(i)\n",
        "print(\"\\nDimensão da lista D= \",len(D))\n",
        "print(\"Lista D=\", D)\n",
        "tempo_inicial = time.time()\n",
        "for p in range(1):\n",
        "    for j in range(1, len(D)):\n",
        "        temporario = D[j]\n",
        "        i = j-1\n",
        "        while i >= 0 and D[i] > temporario:\n",
        "            D[i+ 1] = D[i]\n",
        "            i-=1\n",
        "        D[i+1] = temporario\n",
        "tempo_final = time.time()\n",
        "print(\"Matriz D ordenada = \", D)\n",
        "print(\"Tempo de execução = \", tempo_final - tempo_inicial)"
      ],
      "metadata": {
        "colab": {
          "base_uri": "https://localhost:8080/"
        },
        "id": "mFthhLl4IiZD",
        "outputId": "bf6e5d37-10b9-4891-d38c-372f6119965b"
      },
      "execution_count": 4,
      "outputs": [
        {
          "output_type": "stream",
          "name": "stdout",
          "text": [
            "\n",
            "Dimensão da lista D=  100\n",
            "Lista D= [0, 1, 2, 3, 4, 5, 6, 7, 8, 9, 10, 11, 12, 13, 14, 15, 16, 17, 18, 19, 20, 21, 22, 23, 24, 25, 26, 27, 28, 29, 30, 31, 32, 33, 34, 35, 36, 37, 38, 39, 40, 41, 42, 43, 44, 45, 46, 47, 48, 49, 50, 51, 52, 53, 54, 55, 56, 57, 58, 59, 60, 61, 62, 63, 64, 65, 66, 67, 68, 69, 70, 71, 72, 73, 74, 75, 76, 77, 78, 79, 80, 81, 82, 83, 84, 85, 86, 87, 88, 89, 90, 91, 92, 93, 94, 95, 96, 97, 98, 99]\n",
            "Matriz D ordenada =  [0, 1, 2, 3, 4, 5, 6, 7, 8, 9, 10, 11, 12, 13, 14, 15, 16, 17, 18, 19, 20, 21, 22, 23, 24, 25, 26, 27, 28, 29, 30, 31, 32, 33, 34, 35, 36, 37, 38, 39, 40, 41, 42, 43, 44, 45, 46, 47, 48, 49, 50, 51, 52, 53, 54, 55, 56, 57, 58, 59, 60, 61, 62, 63, 64, 65, 66, 67, 68, 69, 70, 71, 72, 73, 74, 75, 76, 77, 78, 79, 80, 81, 82, 83, 84, 85, 86, 87, 88, 89, 90, 91, 92, 93, 94, 95, 96, 97, 98, 99]\n",
            "Tempo de execução =  0.0003552436828613281\n"
          ]
        }
      ]
    },
    {
      "cell_type": "code",
      "source": [
        "E = []\n",
        "for i in range(0, 100):\n",
        "    E.append(i)\n",
        "E.sort(reverse=True)\n",
        "print(\"\\nDimensão da lista E= \",len(E))\n",
        "print(\"Lista E=\", E)\n",
        "tempo_inicial = time.time()\n",
        "for p in range(1):\n",
        "    for j in range(1, len(E)):\n",
        "        temporario = E[j]\n",
        "        i = j-1\n",
        "        while i >= 0 and E[i] > temporario:\n",
        "            E[i+ 1] = E[i]\n",
        "            i-=1\n",
        "        E[i+1] = temporario\n",
        "tempo_final = time.time()\n",
        "print(\"Matriz E ordenada = \", E)\n",
        "print(\"Tempo de execução = \", tempo_final - tempo_inicial)"
      ],
      "metadata": {
        "colab": {
          "base_uri": "https://localhost:8080/"
        },
        "id": "BZogK_cAImsz",
        "outputId": "d65d42a2-e406-4150-94bf-7daa634beb49"
      },
      "execution_count": 5,
      "outputs": [
        {
          "output_type": "stream",
          "name": "stdout",
          "text": [
            "\n",
            "Dimensão da lista E=  100\n",
            "Lista E= [99, 98, 97, 96, 95, 94, 93, 92, 91, 90, 89, 88, 87, 86, 85, 84, 83, 82, 81, 80, 79, 78, 77, 76, 75, 74, 73, 72, 71, 70, 69, 68, 67, 66, 65, 64, 63, 62, 61, 60, 59, 58, 57, 56, 55, 54, 53, 52, 51, 50, 49, 48, 47, 46, 45, 44, 43, 42, 41, 40, 39, 38, 37, 36, 35, 34, 33, 32, 31, 30, 29, 28, 27, 26, 25, 24, 23, 22, 21, 20, 19, 18, 17, 16, 15, 14, 13, 12, 11, 10, 9, 8, 7, 6, 5, 4, 3, 2, 1, 0]\n",
            "Matriz E ordenada =  [0, 1, 2, 3, 4, 5, 6, 7, 8, 9, 10, 11, 12, 13, 14, 15, 16, 17, 18, 19, 20, 21, 22, 23, 24, 25, 26, 27, 28, 29, 30, 31, 32, 33, 34, 35, 36, 37, 38, 39, 40, 41, 42, 43, 44, 45, 46, 47, 48, 49, 50, 51, 52, 53, 54, 55, 56, 57, 58, 59, 60, 61, 62, 63, 64, 65, 66, 67, 68, 69, 70, 71, 72, 73, 74, 75, 76, 77, 78, 79, 80, 81, 82, 83, 84, 85, 86, 87, 88, 89, 90, 91, 92, 93, 94, 95, 96, 97, 98, 99]\n",
            "Tempo de execução =  0.012310981750488281\n"
          ]
        }
      ]
    },
    {
      "cell_type": "code",
      "source": [
        "F = []\n",
        "n = 0\n",
        "while n < 100:\n",
        "    n+=1\n",
        "    a = random.randrange(0, 100, 1)\n",
        "    F.append(a)\n",
        "print(\"\\nDimensão da lista F= \", len(F))\n",
        "print(\"Lista F= \", F)\n",
        "tempo_inicial = time.time()\n",
        "for p in range(1):\n",
        "    for j in range(1, len(F)):\n",
        "        temporario = F[j]\n",
        "        i = j-1\n",
        "        while i >= 0 and F[i] > temporario:\n",
        "            F[i+ 1] = F[i]\n",
        "            i-=1\n",
        "        F[i+1] = temporario\n",
        "tempo_final = time.time()\n",
        "print(\"Matriz F ordenada = \", F)\n",
        "print(\"Tempo de execução = \", tempo_final - tempo_inicial)\n"
      ],
      "metadata": {
        "colab": {
          "base_uri": "https://localhost:8080/"
        },
        "id": "EENqNSNOIoyi",
        "outputId": "b77e1eee-a0ef-48cd-b74c-4162a9d786f5"
      },
      "execution_count": 6,
      "outputs": [
        {
          "output_type": "stream",
          "name": "stdout",
          "text": [
            "\n",
            "Dimensão da lista F=  100\n",
            "Lista F=  [71, 64, 86, 5, 18, 20, 30, 21, 90, 33, 46, 92, 33, 36, 25, 94, 36, 13, 5, 26, 58, 60, 95, 6, 36, 22, 51, 19, 89, 64, 78, 38, 68, 71, 70, 81, 43, 65, 47, 68, 56, 11, 57, 87, 47, 74, 56, 81, 45, 89, 19, 45, 91, 29, 9, 35, 90, 28, 42, 24, 54, 69, 83, 92, 69, 35, 99, 91, 32, 64, 95, 40, 99, 4, 40, 7, 43, 1, 56, 93, 87, 57, 53, 95, 27, 23, 68, 86, 79, 27, 11, 55, 27, 21, 25, 77, 39, 97, 39, 24]\n",
            "Matriz F ordenada =  [1, 4, 5, 5, 6, 7, 9, 11, 11, 13, 18, 19, 19, 20, 21, 21, 22, 23, 24, 24, 25, 25, 26, 27, 27, 27, 28, 29, 30, 32, 33, 33, 35, 35, 36, 36, 36, 38, 39, 39, 40, 40, 42, 43, 43, 45, 45, 46, 47, 47, 51, 53, 54, 55, 56, 56, 56, 57, 57, 58, 60, 64, 64, 64, 65, 68, 68, 68, 69, 69, 70, 71, 71, 74, 77, 78, 79, 81, 81, 83, 86, 86, 87, 87, 89, 89, 90, 90, 91, 91, 92, 92, 93, 94, 95, 95, 95, 97, 99, 99]\n",
            "Tempo de execução =  0.0009739398956298828\n"
          ]
        }
      ]
    },
    {
      "cell_type": "code",
      "source": [],
      "metadata": {
        "id": "H7JChekEIq3D"
      },
      "execution_count": null,
      "outputs": []
    }
  ]
}